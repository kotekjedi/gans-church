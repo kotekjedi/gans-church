{
  "nbformat": 4,
  "nbformat_minor": 0,
  "metadata": {
    "colab": {
      "name": "gan_test.ipynb",
      "version": "0.3.2",
      "provenance": []
    },
    "kernelspec": {
      "name": "python3",
      "display_name": "Python 3"
    },
    "accelerator": "GPU"
  },
  "cells": [
    {
      "cell_type": "code",
      "metadata": {
        "id": "2tdY4Ia9ht8X",
        "colab_type": "code",
        "colab": {
          "base_uri": "https://localhost:8080/",
          "height": 222
        },
        "outputId": "ca099581-9cd2-4e13-a978-b947b9dd69d8"
      },
      "source": [
        "!pip3 install torchgan"
      ],
      "execution_count": 1,
      "outputs": [
        {
          "output_type": "stream",
          "text": [
            "Collecting torchgan\n",
            "\u001b[?25l  Downloading https://files.pythonhosted.org/packages/38/3f/a27826bebee15b4bc868017da6f03a743df8b665438002a72355ca7219d1/torchgan-0.0.2-py3-none-any.whl (58kB)\n",
            "\u001b[K     |████████████████████████████████| 61kB 5.3MB/s \n",
            "\u001b[?25hRequirement already satisfied: torch in /usr/local/lib/python3.6/dist-packages (from torchgan) (1.1.0)\n",
            "Requirement already satisfied: torchvision in /usr/local/lib/python3.6/dist-packages (from torchgan) (0.3.0)\n",
            "Requirement already satisfied: numpy in /usr/local/lib/python3.6/dist-packages (from torchgan) (1.16.4)\n",
            "Requirement already satisfied: six in /usr/local/lib/python3.6/dist-packages (from torchvision->torchgan) (1.12.0)\n",
            "Requirement already satisfied: pillow>=4.1.1 in /usr/local/lib/python3.6/dist-packages (from torchvision->torchgan) (4.3.0)\n",
            "Requirement already satisfied: olefile in /usr/local/lib/python3.6/dist-packages (from pillow>=4.1.1->torchvision->torchgan) (0.46)\n",
            "Installing collected packages: torchgan\n",
            "Successfully installed torchgan-0.0.2\n"
          ],
          "name": "stdout"
        }
      ]
    },
    {
      "cell_type": "code",
      "metadata": {
        "id": "f3tatJo-hw54",
        "colab_type": "code",
        "colab": {}
      },
      "source": [
        "import torchvision\n",
        "import torchgan\n",
        "from torch.optim import Adam\n",
        "import torch.utils.data as data\n",
        "import torchvision.datasets as dsets\n",
        "import torchvision.transforms as transforms\n",
        "from torchgan.models import DCGANGenerator, DCGANDiscriminator\n",
        "from torchgan.losses import MinimaxGeneratorLoss, MinimaxDiscriminatorLoss\n",
        "from torchgan.trainer import Trainer\n",
        "from google.colab.patches import cv2_imshow\n",
        "import cv2\n",
        "import os\n",
        "import numpy as np\n",
        "import torch"
      ],
      "execution_count": 0,
      "outputs": []
    },
    {
      "cell_type": "code",
      "metadata": {
        "id": "gfnI_bco4JQT",
        "colab_type": "code",
        "colab": {
          "base_uri": "https://localhost:8080/",
          "height": 34
        },
        "outputId": "9b611374-b0a4-4f74-f8fb-aafcc23f6628"
      },
      "source": [
        "from google.colab import drive\n",
        "drive.mount(\"/content/drive\")"
      ],
      "execution_count": 179,
      "outputs": [
        {
          "output_type": "stream",
          "text": [
            "Drive already mounted at /content/drive; to attempt to forcibly remount, call drive.mount(\"/content/drive\", force_remount=True).\n"
          ],
          "name": "stdout"
        }
      ]
    },
    {
      "cell_type": "code",
      "metadata": {
        "id": "XyhYZkvMh205",
        "colab_type": "code",
        "colab": {}
      },
      "source": [
        "def mnist_dataloader():\n",
        "    train_dataset = dsets.MNIST(root=\"./mnist\", train=True, download=True,\n",
        "                      transform=transforms.Compose([transforms.Resize((28, 28)),\n",
        "                                                    transforms.ToTensor(),\n",
        "                                                    transforms.Normalize(mean=(0.5,),\n",
        "                                                                         std=(0.5,))]))\n",
        "    train_loader = data.DataLoader(train_dataset, batch_size=128, shuffle=True)\n",
        "    return train_loader\n"
      ],
      "execution_count": 0,
      "outputs": []
    },
    {
      "cell_type": "code",
      "metadata": {
        "id": "eGDBgJLL1mn8",
        "colab_type": "code",
        "colab": {}
      },
      "source": [
        "def apple_loader(size=512):\n",
        "  for root, dirs, files in os.walk(\"../content/drive/My Drive/apples/images/\"):\n",
        "      res = np.zeros((size, 3,32,32))\n",
        "\n",
        "      for i, file in enumerate(files):\n",
        "        \n",
        "        j = i\n",
        "        if file.endswith(\".jpg\"):\n",
        "             image=cv2.imread(root+file)\n",
        "             try:\n",
        "                image.resize(3,32,32)\n",
        "                image = image/ 127.5 - 1.\n",
        "            \n",
        "             except AttributeError:\n",
        "                pass\n",
        "             res[i,:,:,:] = image\n",
        "        if j > size-2 : \n",
        "          j = 0\n",
        "          features = torch.from_numpy(res)\n",
        "          features = features.float()\n",
        "          targets = torch.ones(size)\n",
        "          train_tensor = data.TensorDataset(features, targets)\n",
        "          train_loader = data.DataLoader(train_tensor, batch_size=128, shuffle=True)\n",
        "          return train_loader"
      ],
      "execution_count": 0,
      "outputs": []
    },
    {
      "cell_type": "code",
      "metadata": {
        "id": "n1V4sCVmh5b6",
        "colab_type": "code",
        "colab": {
          "base_uri": "https://localhost:8080/",
          "height": 2722
        },
        "outputId": "24785bf0-a041-4c5e-fbad-7006fc98acc9"
      },
      "source": [
        "trainer = Trainer({\"generator\": {\"name\": DCGANGenerator, \"args\": {\"out_channels\": 3, \"step_channels\": 16}, \"optimizer\": {\"name\": Adam, \"args\": {\"lr\": 0.0002, \"betas\": (0.5, 0.999)}}},\n",
        "                   \"discriminator\": {\"name\": DCGANDiscriminator, \"args\": {\"in_channels\": 3, \"step_channels\": 16}, \"optimizer\": {\"name\": Adam, \"args\": {\"lr\": 0.0002, \"betas\": (0.5, 0.999)}}}},\n",
        "                  [MinimaxGeneratorLoss(), MinimaxDiscriminatorLoss()],\n",
        "                  sample_size=32, epochs=20)\n",
        "\n",
        "trainer(apple_loader(1024))\n"
      ],
      "execution_count": 195,
      "outputs": [
        {
          "output_type": "stream",
          "text": [
            "Saving Model at './model/gan0.model'\n",
            "Epoch 1 Summary\n",
            "generator Mean Gradients : 1.1680657976281106\n",
            "discriminator Mean Gradients : 6.1176405198251205\n",
            "Mean Running Discriminator Loss : nan\n",
            "Mean Running Generator Loss : nan\n",
            "Generating and Saving Images to ./images/epoch1_generator.png\n",
            "\n",
            "Saving Model at './model/gan1.model'\n",
            "Epoch 2 Summary\n",
            "generator Mean Gradients : 0.618387775214882\n",
            "discriminator Mean Gradients : 3.2387508634368287\n",
            "Mean Running Discriminator Loss : nan\n",
            "Mean Running Generator Loss : nan\n",
            "Generating and Saving Images to ./images/epoch2_generator.png\n",
            "\n",
            "Saving Model at './model/gan2.model'\n",
            "Epoch 3 Summary\n",
            "generator Mean Gradients : 0.4205036871461198\n",
            "discriminator Mean Gradients : 2.2023505871370435\n",
            "Mean Running Discriminator Loss : nan\n",
            "Mean Running Generator Loss : nan\n",
            "Generating and Saving Images to ./images/epoch3_generator.png\n",
            "\n",
            "Saving Model at './model/gan3.model'\n",
            "Epoch 4 Summary\n",
            "generator Mean Gradients : 0.31856339935312106\n",
            "discriminator Mean Gradients : 1.6684474144977601\n",
            "Mean Running Discriminator Loss : nan\n",
            "Mean Running Generator Loss : nan\n",
            "Generating and Saving Images to ./images/epoch4_generator.png\n",
            "\n",
            "Saving Model at './model/gan4.model'\n",
            "Epoch 5 Summary\n",
            "generator Mean Gradients : 0.2564046872842194\n",
            "discriminator Mean Gradients : 1.342896699473807\n",
            "Mean Running Discriminator Loss : nan\n",
            "Mean Running Generator Loss : nan\n",
            "Generating and Saving Images to ./images/epoch5_generator.png\n",
            "\n",
            "Saving Model at './model/gan0.model'\n",
            "Epoch 6 Summary\n",
            "generator Mean Gradients : 0.2145426975235305\n",
            "discriminator Mean Gradients : 1.1236482587433896\n",
            "Mean Running Discriminator Loss : nan\n",
            "Mean Running Generator Loss : nan\n",
            "Generating and Saving Images to ./images/epoch6_generator.png\n",
            "\n",
            "Saving Model at './model/gan1.model'\n",
            "Epoch 7 Summary\n",
            "generator Mean Gradients : 0.1844314417307543\n",
            "discriminator Mean Gradients : 0.9659432399723875\n",
            "Mean Running Discriminator Loss : nan\n",
            "Mean Running Generator Loss : nan\n",
            "Generating and Saving Images to ./images/epoch7_generator.png\n",
            "\n",
            "Saving Model at './model/gan2.model'\n",
            "Epoch 8 Summary\n",
            "generator Mean Gradients : 0.16173218736389222\n",
            "discriminator Mean Gradients : 0.8470579181296322\n",
            "Mean Running Discriminator Loss : nan\n",
            "Mean Running Generator Loss : nan\n",
            "Generating and Saving Images to ./images/epoch8_generator.png\n",
            "\n",
            "Saving Model at './model/gan3.model'\n",
            "Epoch 9 Summary\n",
            "generator Mean Gradients : 0.1440081120363424\n",
            "discriminator Mean Gradients : 0.7542296531291245\n",
            "Mean Running Discriminator Loss : nan\n",
            "Mean Running Generator Loss : nan\n",
            "Generating and Saving Images to ./images/epoch9_generator.png\n",
            "\n",
            "Saving Model at './model/gan4.model'\n",
            "Epoch 10 Summary\n",
            "generator Mean Gradients : 0.1297850886253456\n",
            "discriminator Mean Gradients : 0.6797378355361245\n",
            "Mean Running Discriminator Loss : nan\n",
            "Mean Running Generator Loss : nan\n",
            "Generating and Saving Images to ./images/epoch10_generator.png\n",
            "\n",
            "Saving Model at './model/gan0.model'\n",
            "Epoch 11 Summary\n",
            "generator Mean Gradients : 0.11811901324329208\n",
            "discriminator Mean Gradients : 0.618637805375574\n",
            "Mean Running Discriminator Loss : nan\n",
            "Mean Running Generator Loss : nan\n",
            "Generating and Saving Images to ./images/epoch11_generator.png\n",
            "\n",
            "Saving Model at './model/gan1.model'\n",
            "Epoch 12 Summary\n",
            "generator Mean Gradients : 0.10837723895518551\n",
            "discriminator Mean Gradients : 0.5676161307054236\n",
            "Mean Running Discriminator Loss : nan\n",
            "Mean Running Generator Loss : nan\n",
            "Generating and Saving Images to ./images/epoch12_generator.png\n",
            "\n",
            "Saving Model at './model/gan2.model'\n",
            "Epoch 13 Summary\n",
            "generator Mean Gradients : 0.1001199255109809\n",
            "discriminator Mean Gradients : 0.5243691874135817\n",
            "Mean Running Discriminator Loss : nan\n",
            "Mean Running Generator Loss : nan\n",
            "Generating and Saving Images to ./images/epoch13_generator.png\n",
            "\n",
            "Saving Model at './model/gan3.model'\n",
            "Epoch 14 Summary\n",
            "generator Mean Gradients : 0.09303178919161942\n",
            "discriminator Mean Gradients : 0.48724570511881493\n",
            "Mean Running Discriminator Loss : nan\n",
            "Mean Running Generator Loss : nan\n",
            "Generating and Saving Images to ./images/epoch14_generator.png\n",
            "\n",
            "Saving Model at './model/gan4.model'\n",
            "Epoch 15 Summary\n",
            "generator Mean Gradients : 0.08688092709630574\n",
            "discriminator Mean Gradients : 0.45503111304484367\n",
            "Mean Running Discriminator Loss : nan\n",
            "Mean Running Generator Loss : nan\n",
            "Generating and Saving Images to ./images/epoch15_generator.png\n",
            "\n",
            "Saving Model at './model/gan0.model'\n",
            "Epoch 16 Summary\n",
            "generator Mean Gradients : 0.081492962625217\n",
            "discriminator Mean Gradients : 0.4268121292901247\n",
            "Mean Running Discriminator Loss : nan\n",
            "Mean Running Generator Loss : nan\n",
            "Generating and Saving Images to ./images/epoch16_generator.png\n",
            "\n",
            "Saving Model at './model/gan1.model'\n",
            "Epoch 17 Summary\n",
            "generator Mean Gradients : 0.07673424947921893\n",
            "discriminator Mean Gradients : 0.4018887932731831\n",
            "Mean Running Discriminator Loss : nan\n",
            "Mean Running Generator Loss : nan\n",
            "Generating and Saving Images to ./images/epoch17_generator.png\n",
            "\n",
            "Saving Model at './model/gan2.model'\n",
            "Epoch 18 Summary\n",
            "generator Mean Gradients : 0.07250063571484823\n",
            "discriminator Mean Gradients : 0.37971561847190405\n",
            "Mean Running Discriminator Loss : nan\n",
            "Mean Running Generator Loss : nan\n",
            "Generating and Saving Images to ./images/epoch18_generator.png\n",
            "\n",
            "Saving Model at './model/gan3.model'\n",
            "Epoch 19 Summary\n",
            "generator Mean Gradients : 0.06870975280165356\n",
            "discriminator Mean Gradients : 0.3598612070485365\n",
            "Mean Running Discriminator Loss : nan\n",
            "Mean Running Generator Loss : nan\n",
            "Generating and Saving Images to ./images/epoch19_generator.png\n",
            "\n",
            "Saving Model at './model/gan4.model'\n",
            "Epoch 20 Summary\n",
            "generator Mean Gradients : 0.06529560359411797\n",
            "discriminator Mean Gradients : 0.3419799048349446\n",
            "Mean Running Discriminator Loss : nan\n",
            "Mean Running Generator Loss : nan\n",
            "Generating and Saving Images to ./images/epoch20_generator.png\n",
            "\n",
            "Training of the Model is Complete\n"
          ],
          "name": "stdout"
        }
      ]
    },
    {
      "cell_type": "code",
      "metadata": {
        "id": "xPHN5Wc-rdCW",
        "colab_type": "code",
        "colab": {
          "base_uri": "https://localhost:8080/",
          "height": 34
        },
        "outputId": "d2cb88bd-0404-48b8-e2d1-742c25225354"
      },
      "source": [
        "sample = cv2.imread('images/epoch13_generator.png')\n",
        "sample.shape"
      ],
      "execution_count": 82,
      "outputs": [
        {
          "output_type": "execute_result",
          "data": {
            "text/plain": [
              "(138, 274, 3)"
            ]
          },
          "metadata": {
            "tags": []
          },
          "execution_count": 82
        }
      ]
    },
    {
      "cell_type": "code",
      "metadata": {
        "id": "rNC2LjiqrymS",
        "colab_type": "code",
        "colab": {
          "base_uri": "https://localhost:8080/",
          "height": 155
        },
        "outputId": "e16a07d5-3d64-41b6-bfa2-5d3ee55fc732"
      },
      "source": [
        "cv2_imshow(sample)"
      ],
      "execution_count": 83,
      "outputs": [
        {
          "output_type": "display_data",
          "data": {
            "image/png": "[encoded data removed]",
            "text/plain": [
              "<PIL.Image.Image image mode=RGB size=274x138 at 0x7F4D9B44BAC8>"
            ]
          },
          "metadata": {
            "tags": []
          }
        }
      ]
    },
    {
      "cell_type": "code",
      "metadata": {
        "id": "49TD_iDih5lZ",
        "colab_type": "code",
        "colab": {
          "base_uri": "https://localhost:8080/",
          "height": 155
        },
        "outputId": "17b87c68-f541-47ea-84cc-9013810e7a08"
      },
      "source": [
        "cv2_imshow(sample)\n"
      ],
      "execution_count": 81,
      "outputs": [
        {
          "output_type": "display_data",
          "data": {
            "image/png": "[encoded data removed]",
            "text/plain": [
              "<PIL.Image.Image image mode=RGB size=274x138 at 0x7F4D9B44BA90>"
            ]
          },
          "metadata": {
            "tags": []
          }
        }
      ]
    },
    {
      "cell_type": "code",
      "metadata": {
        "id": "PoFkuYbGvnZ0",
        "colab_type": "code",
        "colab": {}
      },
      "source": [
        "import torch"
      ],
      "execution_count": 0,
      "outputs": []
    },
    {
      "cell_type": "code",
      "metadata": {
        "id": "ArRLyiNqsiW_",
        "colab_type": "code",
        "colab": {
          "base_uri": "https://localhost:8080/",
          "height": 121
        },
        "outputId": "5c29a1a1-06f4-4f76-b117-353e31676b6b"
      },
      "source": [
        "\n"
      ],
      "execution_count": 84,
      "outputs": [
        {
          "output_type": "stream",
          "text": [
            "Go to this URL in a browser: https://accounts.google.com/o/oauth2/auth?client_id=947318989803-6bn6qk8qdgf4n4g3pfee6491hc0brc4i.apps.googleusercontent.com&redirect_uri=urn%3Aietf%3Awg%3Aoauth%3A2.0%3Aoob&scope=email%20https%3A%2F%2Fwww.googleapis.com%2Fauth%2Fdocs.test%20https%3A%2F%2Fwww.googleapis.com%2Fauth%2Fdrive%20https%3A%2F%2Fwww.googleapis.com%2Fauth%2Fdrive.photos.readonly%20https%3A%2F%2Fwww.googleapis.com%2Fauth%2Fpeopleapi.readonly&response_type=code\n",
            "\n",
            "Enter your authorization code:\n",
            "··········\n",
            "Mounted at /content/drive\n"
          ],
          "name": "stdout"
        }
      ]
    },
    {
      "cell_type": "code",
      "metadata": {
        "id": "lta2doBu1h2y",
        "colab_type": "code",
        "colab": {}
      },
      "source": [
        ""
      ],
      "execution_count": 0,
      "outputs": []
    }
  ]
}