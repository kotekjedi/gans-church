{
  "nbformat": 4,
  "nbformat_minor": 0,
  "metadata": {
    "colab": {
      "name": "gan_test.ipynb",
      "version": "0.3.2",
      "provenance": [],
      "collapsed_sections": []
    },
    "kernelspec": {
      "name": "python3",
      "display_name": "Python 3"
    },
    "accelerator": "GPU"
  },
  "cells": [
    {
      "cell_type": "code",
      "metadata": {
        "id": "2tdY4Ia9ht8X",
        "colab_type": "code",
        "outputId": "7ad76282-caa8-420e-cba0-419813feafdf",
        "colab": {
          "base_uri": "https://localhost:8080/",
          "height": 221
        }
      },
      "source": [
        "!pip3 install torchgan"
      ],
      "execution_count": 1,
      "outputs": [
        {
          "output_type": "stream",
          "text": [
            "Collecting torchgan\n",
            "\u001b[?25l  Downloading https://files.pythonhosted.org/packages/38/3f/a27826bebee15b4bc868017da6f03a743df8b665438002a72355ca7219d1/torchgan-0.0.2-py3-none-any.whl (58kB)\n",
            "\u001b[K     |████████████████████████████████| 61kB 2.4MB/s \n",
            "\u001b[?25hRequirement already satisfied: numpy in /usr/local/lib/python3.6/dist-packages (from torchgan) (1.16.4)\n",
            "Requirement already satisfied: torch in /usr/local/lib/python3.6/dist-packages (from torchgan) (1.1.0)\n",
            "Requirement already satisfied: torchvision in /usr/local/lib/python3.6/dist-packages (from torchgan) (0.3.0)\n",
            "Requirement already satisfied: six in /usr/local/lib/python3.6/dist-packages (from torchvision->torchgan) (1.12.0)\n",
            "Requirement already satisfied: pillow>=4.1.1 in /usr/local/lib/python3.6/dist-packages (from torchvision->torchgan) (4.3.0)\n",
            "Requirement already satisfied: olefile in /usr/local/lib/python3.6/dist-packages (from pillow>=4.1.1->torchvision->torchgan) (0.46)\n",
            "Installing collected packages: torchgan\n",
            "Successfully installed torchgan-0.0.2\n"
          ],
          "name": "stdout"
        }
      ]
    },
    {
      "cell_type": "code",
      "metadata": {
        "id": "f3tatJo-hw54",
        "colab_type": "code",
        "colab": {}
      },
      "source": [
        "import os\n",
        "import random\n",
        "import matplotlib.pyplot as plt\n",
        "import numpy as np\n",
        "# Pytorch and Torchvision Imports\n",
        "import torch\n",
        "import torchvision\n",
        "from torch.optim import Adam\n",
        "import torch.nn as nn\n",
        "from torch.nn import functional as F\n",
        "import torch.utils.data as data\n",
        "import torchvision.datasets as dsets\n",
        "import torchvision.transforms as transforms\n",
        "import torchvision.utils as vutils\n",
        "# Torchgan Imports\n",
        "from torchgan.losses import MinimaxGeneratorLoss, MinimaxDiscriminatorLoss\n",
        "import torchgan\n",
        "from torchgan.layers import SpectralNorm2d, SelfAttention2d, ResidualBlock2d\n",
        "from torchgan.models import Generator, Discriminator\n",
        "from torchgan.losses import WassersteinGeneratorLoss, WassersteinDiscriminatorLoss, WassersteinGradientPenalty\n",
        "from torchgan.trainer import Trainer\n",
        "\n",
        "from google.colab.patches import cv2_imshow\n",
        "import cv2\n"
      ],
      "execution_count": 0,
      "outputs": []
    },
    {
      "cell_type": "code",
      "metadata": {
        "id": "gfnI_bco4JQT",
        "colab_type": "code",
        "outputId": "1d9ba56c-8589-4488-c221-72da7e0c861d",
        "colab": {
          "base_uri": "https://localhost:8080/",
          "height": 120
        }
      },
      "source": [
        "from google.colab import drive\n",
        "drive.mount(\"/content/drive\")"
      ],
      "execution_count": 3,
      "outputs": [
        {
          "output_type": "stream",
          "text": [
            "Go to this URL in a browser: https://accounts.google.com/o/oauth2/auth?client_id=947318989803-6bn6qk8qdgf4n4g3pfee6491hc0brc4i.apps.googleusercontent.com&redirect_uri=urn%3Aietf%3Awg%3Aoauth%3A2.0%3Aoob&scope=email%20https%3A%2F%2Fwww.googleapis.com%2Fauth%2Fdocs.test%20https%3A%2F%2Fwww.googleapis.com%2Fauth%2Fdrive%20https%3A%2F%2Fwww.googleapis.com%2Fauth%2Fdrive.photos.readonly%20https%3A%2F%2Fwww.googleapis.com%2Fauth%2Fpeopleapi.readonly&response_type=code\n",
            "\n",
            "Enter your authorization code:\n",
            "··········\n",
            "Mounted at /content/drive\n"
          ],
          "name": "stdout"
        }
      ]
    },
    {
      "cell_type": "code",
      "metadata": {
        "id": "eGDBgJLL1mn8",
        "colab_type": "code",
        "colab": {}
      },
      "source": [
        "def apple_loader(data_size=512):\n",
        "  for root, dirs, files in os.walk(\"../content/drive/My Drive/apples/images/\"):\n",
        "      res = np.zeros((data_size, 3,64,64))\n",
        "      ex_count = 0\n",
        "      for i, file in enumerate(files):\n",
        "        \n",
        "     \n",
        "        if file.endswith(\".jpg\"):\n",
        "             image=cv2.imread(root+file)\n",
        "             try:\n",
        "                image.resize(3,64,64)\n",
        "                image = image/ 127.5 - 1.\n",
        "                res[i,:,:,:] = image\n",
        "             except AttributeError:\n",
        "                ex_count+=1\n",
        "                pass\n",
        "             \n",
        "        if i > data_size-2 : \n",
        "          print(ex_count)\n",
        "          print(len(files))\n",
        "          features = torch.from_numpy(res)\n",
        "          features = features.float()\n",
        "          targets = torch.ones(data_size)\n",
        "          train_tensor = data.TensorDataset(features, targets)\n",
        "          train_loader = data.DataLoader(train_tensor, batch_size=data_size//4, shuffle=True)\n",
        "          return train_loader"
      ],
      "execution_count": 0,
      "outputs": []
    },
    {
      "cell_type": "code",
      "metadata": {
        "id": "6ou9a_yM9mxH",
        "colab_type": "code",
        "colab": {
          "base_uri": "https://localhost:8080/",
          "height": 190
        },
        "outputId": "9dac567b-25aa-4d89-8cdd-1188fdd8dca1"
      },
      "source": [
        "for i in range(1,6):\n",
        "  path = 'images/epoch' + str(i) + '_generator.png'\n",
        "  print(path)\n",
        "  sample = cv2.imread(path)\n",
        "  cv2_imshow(sample)"
      ],
      "execution_count": 19,
      "outputs": [
        {
          "output_type": "stream",
          "text": [
            "images/epoch1_generator.png\n"
          ],
          "name": "stdout"
        },
        {
          "output_type": "display_data",
          "data": {
            "image/png": "[encoded data removed]",
            "text/plain": [
              "<PIL.Image.Image image mode=RGB size=34x18 at 0x7F2A0B6B2710>"
            ]
          },
          "metadata": {
            "tags": []
          }
        },
        {
          "output_type": "stream",
          "text": [
            "images/epoch2_generator.png\n"
          ],
          "name": "stdout"
        },
        {
          "output_type": "display_data",
          "data": {
            "image/png": "[encoded data removed]",
            "text/plain": [
              "<PIL.Image.Image image mode=RGB size=34x18 at 0x7F2A0B6B2AC8>"
            ]
          },
          "metadata": {
            "tags": []
          }
        },
        {
          "output_type": "stream",
          "text": [
            "images/epoch3_generator.png\n"
          ],
          "name": "stdout"
        },
        {
          "output_type": "display_data",
          "data": {
            "image/png": "[encoded data removed]",
            "text/plain": [
              "<PIL.Image.Image image mode=RGB size=34x18 at 0x7F2A0B6B2518>"
            ]
          },
          "metadata": {
            "tags": []
          }
        },
        {
          "output_type": "stream",
          "text": [
            "images/epoch4_generator.png\n"
          ],
          "name": "stdout"
        },
        {
          "output_type": "display_data",
          "data": {
            "image/png": "[encoded data removed]",
            "text/plain": [
              "<PIL.Image.Image image mode=RGB size=34x18 at 0x7F2A0B6B2EB8>"
            ]
          },
          "metadata": {
            "tags": []
          }
        },
        {
          "output_type": "stream",
          "text": [
            "images/epoch5_generator.png\n"
          ],
          "name": "stdout"
        },
        {
          "output_type": "display_data",
          "data": {
            "image/png": "[encoded data removed]",
            "text/plain": [
              "<PIL.Image.Image image mode=RGB size=34x10 at 0x7F2A0B6B2518>"
            ]
          },
          "metadata": {
            "tags": []
          }
        }
      ]
    },
    {
      "cell_type": "code",
      "metadata": {
        "id": "xPHN5Wc-rdCW",
        "colab_type": "code",
        "outputId": "d2cb88bd-0404-48b8-e2d1-742c25225354",
        "colab": {
          "base_uri": "https://localhost:8080/",
          "height": 33
        }
      },
      "source": [
        "sample = cv2.imread('images/epoch13_generator.png')\n",
        "sample.shape"
      ],
      "execution_count": 0,
      "outputs": [
        {
          "output_type": "execute_result",
          "data": {
            "text/plain": [
              "(138, 274, 3)"
            ]
          },
          "metadata": {
            "tags": []
          },
          "execution_count": 82
        }
      ]
    },
    {
      "cell_type": "code",
      "metadata": {
        "id": "guYoVEspjuyz",
        "colab_type": "code",
        "outputId": "3f92306c-32cd-4b6e-ce3a-a521f1aaa6ff",
        "colab": {
          "base_uri": "https://localhost:8080/",
          "height": 50
        }
      },
      "source": [
        "if torch.cuda.is_available():\n",
        "    device = torch.device(\"cuda:0\")\n",
        "    # Use deterministic cudnn algorithms\n",
        "    torch.backends.cudnn.deterministic = True\n",
        "    epochs = 20\n",
        "else:\n",
        "    device = torch.device(\"cpu\")\n",
        "    epochs = 10\n",
        "\n",
        "print(\"Device: {}\".format(device))\n",
        "print(\"Epochs: {}\".format(epochs))"
      ],
      "execution_count": 5,
      "outputs": [
        {
          "output_type": "stream",
          "text": [
            "Device: cuda:0\n",
            "Epochs: 20\n"
          ],
          "name": "stdout"
        }
      ]
    },
    {
      "cell_type": "code",
      "metadata": {
        "id": "5k0i6Esj09u6",
        "colab_type": "code",
        "colab": {}
      },
      "source": [
        "class ResUp(nn.Module):\n",
        "  def __init__(self, input_channels, output_channels):\n",
        "    super(ResUp, self).__init__()\n",
        "    self.skip = nn.Sequential(\n",
        "                  nn.Upsample(2),\n",
        "                  nn.Conv2d(input_channels , output_channels, 1))\n",
        "    self.model = nn.Sequential(\n",
        "                nn.BatchNorm2d(input_channels), nn.LeakyReLU(0.2),\n",
        "                nn.Upsample(2),\n",
        "                nn.Conv2d(input_channels, output_channels , 3,1,1),\n",
        "                nn.BatchNorm2d(output_channels), nn.LeakyReLU(0.2),\n",
        "                nn.Conv2d(output_channels, output_channels, 3,1,1))\n",
        "  def forward(self, x):\n",
        "    main = self.model(x)\n",
        "    skip = self.skip(x)\n",
        "    out = torch.add(main, skip)\n",
        "    return out\n"
      ],
      "execution_count": 0,
      "outputs": []
    },
    {
      "cell_type": "code",
      "metadata": {
        "id": "gqUVT3Le7J-y",
        "colab_type": "code",
        "colab": {}
      },
      "source": [
        "class ResDown(nn.Module):\n",
        "  def __init__(self, input_channels, output_channels):\n",
        "    super(ResDown, self).__init__()\n",
        "   \n",
        "    self.skip = nn.Sequential(\n",
        "                  nn.Conv2d(input_channels, output_channels, 1),\n",
        "                  nn.AvgPool2d(2))\n",
        "    self.model = nn.Sequential(\n",
        "                nn.LeakyReLU(0.2),\n",
        "                nn.Conv2d(input_channels, output_channels, 3,1,1),\n",
        "                nn.LeakyReLU(0.2),\n",
        "                nn.Conv2d(output_channels, output_channels, 3,1,1),\n",
        "                nn.AvgPool2d(2))\n",
        "  def forward(self, x):\n",
        "    main = self.model(x)\n",
        "    skip = self.skip(x)\n",
        "    out = torch.add(skip, main)\n",
        "    return out"
      ],
      "execution_count": 0,
      "outputs": []
    },
    {
      "cell_type": "code",
      "metadata": {
        "id": "BhPpEe6lD3A_",
        "colab_type": "code",
        "colab": {}
      },
      "source": [
        "class BigGanDiscriminator(Discriminator):\n",
        "    def __init__(self, chn=64):\n",
        "        super(BigGanDiscriminator, self).__init__(3, 'none')\n",
        "        self.pre_conv = nn.Sequential(SpectralNorm2d(nn.Conv2d(3, chn, 3,1,1)),\n",
        "                                      nn.ReLU(),\n",
        "                                      SpectralNorm2d(nn.Conv2d(chn, chn, 3,1,1)),\n",
        "                                      nn.AvgPool2d(2))\n",
        "        self.pre_skip = SpectralNorm2d(nn.Conv2d(3, chn, 1))\n",
        "\n",
        "        self.conv = nn.Sequential(ResDown(chn, chn),\n",
        "                                  SelfAttention2d(chn),\n",
        "                                  ResDown(chn, 2*chn),    \n",
        "                                  ResDown(2*chn, 4*chn),\n",
        "                                  ResDown(4*chn, 8*chn),\n",
        "                                  ResDown(8*chn, 16*chn))\n",
        "        self.res_layer = ResidualBlock2d([16*chn, 16*chn], [3], [1],[1])\n",
        "        self.linear = SpectralNorm2d(nn.Linear(16*chn, 1))\n",
        "\n",
        "        self.last = nn.LeakyReLU(0.2)\n",
        "    def forward(self, x):\n",
        "      out = self.pre_conv(x)\n",
        "      out = out + self.pre_skip(F.avg_pool2d(x, 2))\n",
        "      out = self.conv(out)\n",
        "      out = self.res_layer(out)\n",
        "      out = out.view(out.size(0), out.size(1), -1)\n",
        "      out = out.sum(2)\n",
        "      out = self.linear(out)\n",
        "      out = self.last(out)\n",
        "      \n",
        "      return out"
      ],
      "execution_count": 0,
      "outputs": []
    },
    {
      "cell_type": "code",
      "metadata": {
        "id": "uOkoahqpmbSr",
        "colab_type": "code",
        "colab": {}
      },
      "source": [
        "class BigGanGenerator(Generator):\n",
        "    def __init__(self, chn=64):\n",
        "        super(BigGanGenerator, self).__init__(1, 'none')\n",
        "        self.linear = SpectralNorm2d(nn.Linear(1, 4 * 4 * 16 * chn))\n",
        "        self.conv = nn.Sequential(ResUp(16*chn, 16*chn),\n",
        "                                ResUp(16*chn, 8*chn),\n",
        "                                ResUp(8*chn, 4*chn),\n",
        "                                ResUp(4*chn, 2*chn),\n",
        "                                SelfAttention2d(2*chn),\n",
        "                                ResUp(2*chn, chn))\n",
        "        self.last = nn.Sequential(nn.BatchNorm2d(chn), nn.LeakyReLU(0.2),\n",
        "                nn.Conv2d(chn, 3, 1), nn.Tanh())\n",
        "    def forward(self, x):\n",
        "        out = self.linear(x)\n",
        "        out = out.view(-1, 1024, 4, 4)\n",
        "        out = self.conv(out)\n",
        "        out = self.last(out)\n",
        "        return out"
      ],
      "execution_count": 0,
      "outputs": []
    },
    {
      "cell_type": "code",
      "metadata": {
        "id": "BcraRYL6hT4C",
        "colab_type": "code",
        "colab": {}
      },
      "source": [
        "network_params = {\n",
        "    \"generator\": {\"name\": BigGanGenerator, \"args\": {\"chn\": 64},\n",
        "                  \"optimizer\": {\"name\": Adam, \"args\": {\"lr\": 0.0001, \"betas\": (0.5, 0.999)}}},\n",
        "    \"discriminator\": {\"name\": BigGanDiscriminator, \"args\": {\"chn\": 64},\n",
        "                      \"optimizer\": {\"name\": Adam, \"args\": {\"lr\": 0.0004, \"betas\": (0.5, 0.999)}}}\n",
        "}"
      ],
      "execution_count": 0,
      "outputs": []
    },
    {
      "cell_type": "code",
      "metadata": {
        "id": "dggvb8nfhT8q",
        "colab_type": "code",
        "colab": {}
      },
      "source": [
        "trainer = Trainer(network_params, [MinimaxGeneratorLoss(), MinimaxDiscriminatorLoss()], sample_size=32, epochs=100, device=device)"
      ],
      "execution_count": 0,
      "outputs": []
    },
    {
      "cell_type": "code",
      "metadata": {
        "id": "8ajJX3RW4ciJ",
        "colab_type": "code",
        "outputId": "8a4353e0-405d-4959-acea-98fb9f7622ec",
        "colab": {
          "base_uri": "https://localhost:8080/",
          "height": 858
        }
      },
      "source": [
        "trainer(apple_loader(1100))"
      ],
      "execution_count": 18,
      "outputs": [
        {
          "output_type": "stream",
          "text": [
            "2\n",
            "1162\n",
            "Saving Model at './model/gan0.model'\n",
            "Epoch 1 Summary\n",
            "generator Mean Gradients : 30.765573479183285\n",
            "discriminator Mean Gradients : 11.530714539356989\n",
            "Mean Running Discriminator Loss : 0.9945204108953476\n",
            "Mean Running Generator Loss : 0.7149397879838943\n",
            "Generating and Saving Images to ./images/epoch1_generator.png\n",
            "\n",
            "Saving Model at './model/gan1.model'\n",
            "Epoch 2 Summary\n",
            "generator Mean Gradients : 18.175710927322523\n",
            "discriminator Mean Gradients : 6.5400194688680635\n",
            "Mean Running Discriminator Loss : 0.7687687538564205\n",
            "Mean Running Generator Loss : 0.7978639602661133\n",
            "Generating and Saving Images to ./images/epoch2_generator.png\n",
            "\n",
            "Saving Model at './model/gan2.model'\n",
            "Epoch 3 Summary\n",
            "generator Mean Gradients : 12.66346503662194\n",
            "discriminator Mean Gradients : 4.610506668646183\n",
            "Mean Running Discriminator Loss : 0.5670338794589043\n",
            "Mean Running Generator Loss : 1.2670901815096538\n",
            "Generating and Saving Images to ./images/epoch3_generator.png\n",
            "\n",
            "Saving Model at './model/gan3.model'\n",
            "Epoch 4 Summary\n",
            "generator Mean Gradients : 9.872176343713274\n",
            "discriminator Mean Gradients : 3.526478339503082\n",
            "Mean Running Discriminator Loss : 0.4264718918639119\n",
            "Mean Running Generator Loss : 2.365477994084358\n",
            "Generating and Saving Images to ./images/epoch4_generator.png\n",
            "\n"
          ],
          "name": "stdout"
        },
        {
          "output_type": "error",
          "ename": "KeyboardInterrupt",
          "evalue": "ignored",
          "traceback": [
            "\u001b[0;31m---------------------------------------------------------------------------\u001b[0m",
            "\u001b[0;31mKeyboardInterrupt\u001b[0m                         Traceback (most recent call last)",
            "\u001b[0;32m<ipython-input-18-d8038f00a4a3>\u001b[0m in \u001b[0;36m<module>\u001b[0;34m()\u001b[0m\n\u001b[0;32m----> 1\u001b[0;31m \u001b[0mtrainer\u001b[0m\u001b[0;34m(\u001b[0m\u001b[0mapple_loader\u001b[0m\u001b[0;34m(\u001b[0m\u001b[0;36m1100\u001b[0m\u001b[0;34m)\u001b[0m\u001b[0;34m)\u001b[0m\u001b[0;34m\u001b[0m\u001b[0;34m\u001b[0m\u001b[0m\n\u001b[0m",
            "\u001b[0;32m/usr/local/lib/python3.6/dist-packages/torchgan/trainer/trainer.py\u001b[0m in \u001b[0;36m__call__\u001b[0;34m(self, data_loader, **kwargs)\u001b[0m\n\u001b[1;32m    436\u001b[0m     \u001b[0;32mdef\u001b[0m \u001b[0m__call__\u001b[0m\u001b[0;34m(\u001b[0m\u001b[0mself\u001b[0m\u001b[0;34m,\u001b[0m \u001b[0mdata_loader\u001b[0m\u001b[0;34m,\u001b[0m \u001b[0;34m**\u001b[0m\u001b[0mkwargs\u001b[0m\u001b[0;34m)\u001b[0m\u001b[0;34m:\u001b[0m\u001b[0;34m\u001b[0m\u001b[0;34m\u001b[0m\u001b[0m\n\u001b[1;32m    437\u001b[0m         \u001b[0mself\u001b[0m\u001b[0;34m.\u001b[0m\u001b[0mbatch_size\u001b[0m \u001b[0;34m=\u001b[0m \u001b[0mdata_loader\u001b[0m\u001b[0;34m.\u001b[0m\u001b[0mbatch_size\u001b[0m\u001b[0;34m\u001b[0m\u001b[0;34m\u001b[0m\u001b[0m\n\u001b[0;32m--> 438\u001b[0;31m         \u001b[0mself\u001b[0m\u001b[0;34m.\u001b[0m\u001b[0mtrain\u001b[0m\u001b[0;34m(\u001b[0m\u001b[0mdata_loader\u001b[0m\u001b[0;34m,\u001b[0m \u001b[0;34m**\u001b[0m\u001b[0mkwargs\u001b[0m\u001b[0;34m)\u001b[0m\u001b[0;34m\u001b[0m\u001b[0;34m\u001b[0m\u001b[0m\n\u001b[0m",
            "\u001b[0;32m/usr/local/lib/python3.6/dist-packages/torchgan/trainer/trainer.py\u001b[0m in \u001b[0;36mtrain\u001b[0;34m(self, data_loader, **kwargs)\u001b[0m\n\u001b[1;32m    398\u001b[0m                     \u001b[0mself\u001b[0m\u001b[0;34m.\u001b[0m\u001b[0mreal_inputs\u001b[0m \u001b[0;34m=\u001b[0m \u001b[0mdata\u001b[0m\u001b[0;34m\u001b[0m\u001b[0;34m\u001b[0m\u001b[0m\n\u001b[1;32m    399\u001b[0m \u001b[0;34m\u001b[0m\u001b[0m\n\u001b[0;32m--> 400\u001b[0;31m                 \u001b[0mlgen\u001b[0m\u001b[0;34m,\u001b[0m \u001b[0mldis\u001b[0m\u001b[0;34m,\u001b[0m \u001b[0mgen_iter\u001b[0m\u001b[0;34m,\u001b[0m \u001b[0mdis_iter\u001b[0m \u001b[0;34m=\u001b[0m \u001b[0mself\u001b[0m\u001b[0;34m.\u001b[0m\u001b[0mtrain_iter\u001b[0m\u001b[0;34m(\u001b[0m\u001b[0;34m)\u001b[0m\u001b[0;34m\u001b[0m\u001b[0;34m\u001b[0m\u001b[0m\n\u001b[0m\u001b[1;32m    401\u001b[0m                 \u001b[0mself\u001b[0m\u001b[0;34m.\u001b[0m\u001b[0mloss_information\u001b[0m\u001b[0;34m[\u001b[0m\u001b[0;34m'generator_losses'\u001b[0m\u001b[0;34m]\u001b[0m \u001b[0;34m+=\u001b[0m \u001b[0mlgen\u001b[0m\u001b[0;34m\u001b[0m\u001b[0;34m\u001b[0m\u001b[0m\n\u001b[1;32m    402\u001b[0m                 \u001b[0mself\u001b[0m\u001b[0;34m.\u001b[0m\u001b[0mloss_information\u001b[0m\u001b[0;34m[\u001b[0m\u001b[0;34m'discriminator_losses'\u001b[0m\u001b[0;34m]\u001b[0m \u001b[0;34m+=\u001b[0m \u001b[0mldis\u001b[0m\u001b[0;34m\u001b[0m\u001b[0;34m\u001b[0m\u001b[0m\n",
            "\u001b[0;32m/usr/local/lib/python3.6/dist-packages/torchgan/trainer/trainer.py\u001b[0m in \u001b[0;36mtrain_iter\u001b[0;34m(self)\u001b[0m\n\u001b[1;32m    334\u001b[0m                         \u001b[0mgrad_logs\u001b[0m\u001b[0;34m.\u001b[0m\u001b[0mupdate_grads\u001b[0m\u001b[0;34m(\u001b[0m\u001b[0mmodel_name\u001b[0m\u001b[0;34m,\u001b[0m \u001b[0mmodel\u001b[0m\u001b[0;34m)\u001b[0m\u001b[0;34m\u001b[0m\u001b[0;34m\u001b[0m\u001b[0m\n\u001b[1;32m    335\u001b[0m             \u001b[0;32melif\u001b[0m \u001b[0misinstance\u001b[0m\u001b[0;34m(\u001b[0m\u001b[0mloss\u001b[0m\u001b[0;34m,\u001b[0m \u001b[0mDiscriminatorLoss\u001b[0m\u001b[0;34m)\u001b[0m\u001b[0;34m:\u001b[0m\u001b[0;34m\u001b[0m\u001b[0;34m\u001b[0m\u001b[0m\n\u001b[0;32m--> 336\u001b[0;31m                 \u001b[0mcur_loss\u001b[0m \u001b[0;34m=\u001b[0m \u001b[0mloss\u001b[0m\u001b[0;34m.\u001b[0m\u001b[0mtrain_ops\u001b[0m\u001b[0;34m(\u001b[0m\u001b[0;34m**\u001b[0m\u001b[0mself\u001b[0m\u001b[0;34m.\u001b[0m\u001b[0m_get_arguments\u001b[0m\u001b[0;34m(\u001b[0m\u001b[0mself\u001b[0m\u001b[0;34m.\u001b[0m\u001b[0mloss_arg_maps\u001b[0m\u001b[0;34m[\u001b[0m\u001b[0mname\u001b[0m\u001b[0;34m]\u001b[0m\u001b[0;34m)\u001b[0m\u001b[0;34m)\u001b[0m\u001b[0;34m\u001b[0m\u001b[0;34m\u001b[0m\u001b[0m\n\u001b[0m\u001b[1;32m    337\u001b[0m                 \u001b[0mloss_logs\u001b[0m\u001b[0;34m.\u001b[0m\u001b[0mlogs\u001b[0m\u001b[0;34m[\u001b[0m\u001b[0mname\u001b[0m\u001b[0;34m]\u001b[0m\u001b[0;34m.\u001b[0m\u001b[0mappend\u001b[0m\u001b[0;34m(\u001b[0m\u001b[0mcur_loss\u001b[0m\u001b[0;34m)\u001b[0m\u001b[0;34m\u001b[0m\u001b[0;34m\u001b[0m\u001b[0m\n\u001b[1;32m    338\u001b[0m                 \u001b[0mldis\u001b[0m\u001b[0;34m,\u001b[0m \u001b[0mdis_iter\u001b[0m \u001b[0;34m=\u001b[0m \u001b[0mldis\u001b[0m \u001b[0;34m+\u001b[0m \u001b[0mcur_loss\u001b[0m\u001b[0;34m,\u001b[0m \u001b[0mdis_iter\u001b[0m \u001b[0;34m+\u001b[0m \u001b[0;36m1\u001b[0m\u001b[0;34m\u001b[0m\u001b[0;34m\u001b[0m\u001b[0m\n",
            "\u001b[0;32m/usr/local/lib/python3.6/dist-packages/torchgan/losses/loss.py\u001b[0m in \u001b[0;36mtrain_ops\u001b[0;34m(self, generator, discriminator, optimizer_discriminator, real_inputs, device, labels)\u001b[0m\n\u001b[1;32m    189\u001b[0m             \u001b[0moptimizer_discriminator\u001b[0m\u001b[0;34m.\u001b[0m\u001b[0mstep\u001b[0m\u001b[0;34m(\u001b[0m\u001b[0;34m)\u001b[0m\u001b[0;34m\u001b[0m\u001b[0;34m\u001b[0m\u001b[0m\n\u001b[1;32m    190\u001b[0m             \u001b[0;31m# NOTE(avik-pal): This will error if reduction is is 'none'\u001b[0m\u001b[0;34m\u001b[0m\u001b[0;34m\u001b[0m\u001b[0;34m\u001b[0m\u001b[0m\n\u001b[0;32m--> 191\u001b[0;31m             \u001b[0;32mreturn\u001b[0m \u001b[0mloss\u001b[0m\u001b[0;34m.\u001b[0m\u001b[0mitem\u001b[0m\u001b[0;34m(\u001b[0m\u001b[0;34m)\u001b[0m\u001b[0;34m\u001b[0m\u001b[0;34m\u001b[0m\u001b[0m\n\u001b[0m",
            "\u001b[0;31mKeyboardInterrupt\u001b[0m: "
          ]
        }
      ]
    },
    {
      "cell_type": "code",
      "metadata": {
        "id": "XchuwrC44f_c",
        "colab_type": "code",
        "colab": {}
      },
      "source": [
        ""
      ],
      "execution_count": 0,
      "outputs": []
    }
  ]
}