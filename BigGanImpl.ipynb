{
 "cells": [
  {
   "cell_type": "code",
   "execution_count": 6,
   "metadata": {},
   "outputs": [],
   "source": [
    "import torchgan"
   ]
  },
  {
   "cell_type": "code",
   "execution_count": 9,
   "metadata": {},
   "outputs": [],
   "source": [
    "import os\n",
    "import random\n",
    "import matplotlib.pyplot as plt\n",
    "import numpy as np\n",
    "# Pytorch and Torchvision Imports\n",
    "import torch\n",
    "import torchvision\n",
    "from torch.optim import Adam\n",
    "import torch.nn as nn\n",
    "import torch.utils.data as data\n",
    "import torchvision.datasets as dsets\n",
    "import torchvision.transforms as transforms\n",
    "import torchvision.utils as vutils\n",
    "# Torchgan Imports\n",
    "import torchgan\n",
    "from torchgan.layers import SpectralNorm2d, SelfAttention2d\n",
    "from torchgan.models import Generator, Discriminator\n",
    "from torchgan.losses import WassersteinGeneratorLoss, WassersteinDiscriminatorLoss, WassersteinGradientPenalty\n",
    "from torchgan.trainer import Trainer\n"
   ]
  },
  {
   "cell_type": "code",
   "execution_count": null,
   "metadata": {},
   "outputs": [],
   "source": [
    "def ResUp(nn.Module):\n",
    "    def __init__(self, step_channels=64):\n",
    "        d = step_channels\n",
    "        self.skip = nn.Sequential(\n",
    "                      nn.Upsample(),\n",
    "                      nn.Conv2d(d * 2, d * 4, 1))\n",
    "        self.model = nn.Sequential(\n",
    "                    nn.BatchNorm2d(d), nn.LeakyReLU(0.2),\n",
    "                    nn.Upsample(),\n",
    "                    nn.Conv2d(d * 2, d * 4, 3)\n",
    "                    nn.BatchNorm2d(d * 2), nn.LeakyReLU(0.2),\n",
    "                    nn.Conv2d(d * 2, d * 4, 3))\n",
    "    def forward(self, x):\n",
    "        main = self.model(x)\n",
    "        skip = self.skip(x)\n",
    "        out = torch.add(main, skip)\n",
    "        return out\n"
   ]
  },
  {
   "cell_type": "code",
   "execution_count": null,
   "metadata": {},
   "outputs": [],
   "source": [
    "def ResDown(nn.Module):\n",
    "    def __init__(self, step_channels=64):\n",
    "        d = step_channels\n",
    "        self.skip = nn.Sequential(\n",
    "                      nn.Conv2d(d * 2, d * 4, 1),\n",
    "                      nn.AvgPool2d())\n",
    "        self.model = nn.Sequential(\n",
    "                    nn.LeakyReLU(0.2),\n",
    "                    nn.Conv2d(d * 2, d * 4, 3),\n",
    "                    nn.LeakyReLU(0.2),\n",
    "                    nn.Conv2d(d * 2, d * 4, 3),\n",
    "                    nn.AvgPool2d())\n",
    "    def forward(self, x):\n",
    "        main = self.model(x)\n",
    "        skip = self.skip(x)\n",
    "        out = torch.add(skip, main)\n",
    "        return out"
   ]
  },
  {
   "cell_type": "code",
   "execution_count": null,
   "metadata": {},
   "outputs": [],
   "source": [
    "class BigGanGenerator(Generator):\n",
    "    def __init__(self, step_channels=64):\n",
    "        self.linear = SpectralNorm2d(nn.Linear(4 * 4 * 16 * chn))\n",
    "        self.conv = nn.ModuleList([ResUp(16*chn, 16*chn),\n",
    "                                ResUp(16*chn, 8*chn),\n",
    "                                ResUp(8*chn, 4*chn),\n",
    "                                ResUp(4*chn, 2*chn),\n",
    "                                SelfAttention2d(2*chn),\n",
    "                                ResUp(2*chn, 1*chn)])\n",
    "        self.last = nn.Sequential(nn.BatchNorm2d(d), nn.LeakyReLU(0.2),\n",
    "                nn.Conv2d(d * 2, 3, 3), nn.Tanh())\n",
    "    def forward(self, x):\n",
    "        out = self.linear(x)\n",
    "        out = self.conv(out)\n",
    "        out = self.last(out)\n",
    "        return out"
   ]
  },
  {
   "cell_type": "code",
   "execution_count": null,
   "metadata": {},
   "outputs": [],
   "source": []
  },
  {
   "cell_type": "code",
   "execution_count": null,
   "metadata": {},
   "outputs": [],
   "source": []
  }
 ],
 "metadata": {
  "kernelspec": {
   "display_name": "Python 3",
   "language": "python",
   "name": "python3"
  },
  "language_info": {
   "codemirror_mode": {
    "name": "ipython",
    "version": 3
   },
   "file_extension": ".py",
   "mimetype": "text/x-python",
   "name": "python",
   "nbconvert_exporter": "python",
   "pygments_lexer": "ipython3",
   "version": "3.7.3"
  }
 },
 "nbformat": 4,
 "nbformat_minor": 2
}
